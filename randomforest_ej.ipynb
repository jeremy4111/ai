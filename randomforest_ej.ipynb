{
 "cells": [
  {
   "cell_type": "code",
   "execution_count": 323,
   "metadata": {},
   "outputs": [
    {
     "data": {
      "text/html": [
       "<div>\n",
       "<style scoped>\n",
       "    .dataframe tbody tr th:only-of-type {\n",
       "        vertical-align: middle;\n",
       "    }\n",
       "\n",
       "    .dataframe tbody tr th {\n",
       "        vertical-align: top;\n",
       "    }\n",
       "\n",
       "    .dataframe thead th {\n",
       "        text-align: right;\n",
       "    }\n",
       "</style>\n",
       "<table border=\"1\" class=\"dataframe\">\n",
       "  <thead>\n",
       "    <tr style=\"text-align: right;\">\n",
       "      <th></th>\n",
       "      <th>手機螢幕溫度(平均)</th>\n",
       "      <th>手機螢幕溫度(最大)</th>\n",
       "      <th>手機背蓋溫度(平均)</th>\n",
       "      <th>平均APP運作指標/小時</th>\n",
       "      <th>充電時間指標</th>\n",
       "      <th>手機電池電量</th>\n",
       "      <th>CPU跑分階級</th>\n",
       "      <th>手機外殼/包膜指標</th>\n",
       "      <th>外型平均曲率</th>\n",
       "      <th>上網頻率指標</th>\n",
       "      <th>通話頻率指標</th>\n",
       "      <th>新機/二手/老舊</th>\n",
       "      <th>內容容量比率</th>\n",
       "      <th>CPU效能等級</th>\n",
       "      <th>Underclocking</th>\n",
       "    </tr>\n",
       "  </thead>\n",
       "  <tbody>\n",
       "    <tr>\n",
       "      <th>0</th>\n",
       "      <td>58.785714</td>\n",
       "      <td>63.833333</td>\n",
       "      <td>43.213333</td>\n",
       "      <td>231.000000</td>\n",
       "      <td>0.039474</td>\n",
       "      <td>61.255411</td>\n",
       "      <td>3</td>\n",
       "      <td>0.053652</td>\n",
       "      <td>-0.037180</td>\n",
       "      <td>6235.000000</td>\n",
       "      <td>6029.000000</td>\n",
       "      <td>0</td>\n",
       "      <td>0.999244</td>\n",
       "      <td>1</td>\n",
       "      <td>0</td>\n",
       "    </tr>\n",
       "    <tr>\n",
       "      <th>1</th>\n",
       "      <td>52.357143</td>\n",
       "      <td>57.857143</td>\n",
       "      <td>58.053333</td>\n",
       "      <td>92.090000</td>\n",
       "      <td>0.732759</td>\n",
       "      <td>91.393846</td>\n",
       "      <td>4</td>\n",
       "      <td>0.074205</td>\n",
       "      <td>0.155243</td>\n",
       "      <td>1750.000000</td>\n",
       "      <td>1422.000000</td>\n",
       "      <td>0</td>\n",
       "      <td>0.950294</td>\n",
       "      <td>2</td>\n",
       "      <td>1</td>\n",
       "    </tr>\n",
       "    <tr>\n",
       "      <th>2</th>\n",
       "      <td>30.674860</td>\n",
       "      <td>36.714286</td>\n",
       "      <td>36.661527</td>\n",
       "      <td>836.239303</td>\n",
       "      <td>0.229050</td>\n",
       "      <td>68.931202</td>\n",
       "      <td>3</td>\n",
       "      <td>0.121504</td>\n",
       "      <td>0.031717</td>\n",
       "      <td>2679.476981</td>\n",
       "      <td>2200.824592</td>\n",
       "      <td>0</td>\n",
       "      <td>1.000000</td>\n",
       "      <td>1</td>\n",
       "      <td>0</td>\n",
       "    </tr>\n",
       "    <tr>\n",
       "      <th>3</th>\n",
       "      <td>32.119048</td>\n",
       "      <td>41.571429</td>\n",
       "      <td>63.213333</td>\n",
       "      <td>588.800000</td>\n",
       "      <td>0.090909</td>\n",
       "      <td>54.455267</td>\n",
       "      <td>3</td>\n",
       "      <td>0.153716</td>\n",
       "      <td>0.009326</td>\n",
       "      <td>362.900000</td>\n",
       "      <td>0.000000</td>\n",
       "      <td>0</td>\n",
       "      <td>0.918970</td>\n",
       "      <td>1</td>\n",
       "      <td>1</td>\n",
       "    </tr>\n",
       "    <tr>\n",
       "      <th>4</th>\n",
       "      <td>41.214286</td>\n",
       "      <td>49.404762</td>\n",
       "      <td>52.486667</td>\n",
       "      <td>683.900000</td>\n",
       "      <td>0.072727</td>\n",
       "      <td>61.922799</td>\n",
       "      <td>3</td>\n",
       "      <td>0.097287</td>\n",
       "      <td>-0.030090</td>\n",
       "      <td>2777.000000</td>\n",
       "      <td>2001.000000</td>\n",
       "      <td>0</td>\n",
       "      <td>0.906411</td>\n",
       "      <td>1</td>\n",
       "      <td>0</td>\n",
       "    </tr>\n",
       "  </tbody>\n",
       "</table>\n",
       "</div>"
      ],
      "text/plain": [
       "   手機螢幕溫度(平均)  手機螢幕溫度(最大)  手機背蓋溫度(平均)  平均APP運作指標/小時    充電時間指標     手機電池電量  \\\n",
       "0   58.785714   63.833333   43.213333    231.000000  0.039474  61.255411   \n",
       "1   52.357143   57.857143   58.053333     92.090000  0.732759  91.393846   \n",
       "2   30.674860   36.714286   36.661527    836.239303  0.229050  68.931202   \n",
       "3   32.119048   41.571429   63.213333    588.800000  0.090909  54.455267   \n",
       "4   41.214286   49.404762   52.486667    683.900000  0.072727  61.922799   \n",
       "\n",
       "   CPU跑分階級  手機外殼/包膜指標    外型平均曲率       上網頻率指標       通話頻率指標  新機/二手/老舊    內容容量比率  \\\n",
       "0        3   0.053652 -0.037180  6235.000000  6029.000000         0  0.999244   \n",
       "1        4   0.074205  0.155243  1750.000000  1422.000000         0  0.950294   \n",
       "2        3   0.121504  0.031717  2679.476981  2200.824592         0  1.000000   \n",
       "3        3   0.153716  0.009326   362.900000     0.000000         0  0.918970   \n",
       "4        3   0.097287 -0.030090  2777.000000  2001.000000         0  0.906411   \n",
       "\n",
       "   CPU效能等級  Underclocking  \n",
       "0        1              0  \n",
       "1        2              1  \n",
       "2        1              0  \n",
       "3        1              1  \n",
       "4        1              0  "
      ]
     },
     "execution_count": 323,
     "metadata": {},
     "output_type": "execute_result"
    }
   ],
   "source": [
    "#Step (1): Read Data\n",
    "import pandas as pd #Read data\n",
    "import numpy as np  #Array\n",
    "\n",
    "# Read in dataset (encoding = 'Big5'可顯示出繁體中文)\n",
    "data_train = pd.read_excel(\"01train_fix.xlsx\")\n",
    "data_test = pd.read_excel(\"01test.xlsx\")\n",
    "data_out = pd.read_excel(\"01test.xlsx\")\n",
    "data_train.head() # Show data (看看是否讀取成功)"
   ]
  },
  {
   "cell_type": "code",
   "execution_count": 324,
   "metadata": {},
   "outputs": [],
   "source": [
    "#drop 上網試試看,心肌、平均app不drop\n",
    "data_train.drop(['外型平均曲率','手機外殼/包膜指標','手機螢幕溫度(最大)','CPU效能等級','平均APP運作指標/小時','新機/二手/老舊'], axis=1, inplace=True)\n",
    "data_test.drop(['id','外型平均曲率','手機外殼/包膜指標','手機螢幕溫度(最大)','CPU效能等級','平均APP運作指標/小時','新機/二手/老舊'], axis=1, inplace=True)"
   ]
  },
  {
   "cell_type": "code",
   "execution_count": 325,
   "metadata": {},
   "outputs": [
    {
     "name": "stdout",
     "output_type": "stream",
     "text": [
      "   手機螢幕溫度(平均)  手機背蓋溫度(平均)    充電時間指標    手機電池電量   CPU跑分階級    上網頻率指標    通話頻率指標  \\\n",
      "0    0.751415    0.351942  0.040835  0.256490  0.000000  0.741359  0.741666   \n",
      "1    0.656482    0.480422  0.758026  0.834848  0.333333  0.208022  0.174929   \n",
      "2    0.336291    0.295218  0.236949  0.403789  0.000000  0.318551  0.270737   \n",
      "3    0.357618    0.525096  0.094044  0.125995  0.000000  0.043074  0.000000   \n",
      "4    0.491931    0.432228  0.075235  0.269297  0.000000  0.330148  0.246156   \n",
      "\n",
      "     內容容量比率  Underclocking  \n",
      "0  0.999244              0  \n",
      "1  0.950294              1  \n",
      "2  1.000000              0  \n",
      "3  0.918970              1  \n",
      "4  0.906411              0  \n"
     ]
    }
   ],
   "source": [
    "from sklearn.preprocessing import MinMaxScaler\n",
    "\n",
    "\n",
    "columns_to_normalize = [ '手機螢幕溫度(平均)', '手機背蓋溫度(平均)','手機電池電量', 'CPU跑分階級','內容容量比率','充電時間指標', '通話頻率指標', '上網頻率指標']\n",
    "\n",
    "# 初始化標準化物件\n",
    "min_max_scaler = MinMaxScaler()\n",
    "\n",
    "# 將資料標準化\n",
    "data_train[columns_to_normalize] = min_max_scaler.fit_transform(data_train[columns_to_normalize])\n",
    "\n",
    "# 顯示標準化後的資料\n",
    "print(data_train.head())"
   ]
  },
  {
   "cell_type": "code",
   "execution_count": 326,
   "metadata": {},
   "outputs": [
    {
     "data": {
      "text/html": [
       "<div>\n",
       "<style scoped>\n",
       "    .dataframe tbody tr th:only-of-type {\n",
       "        vertical-align: middle;\n",
       "    }\n",
       "\n",
       "    .dataframe tbody tr th {\n",
       "        vertical-align: top;\n",
       "    }\n",
       "\n",
       "    .dataframe thead th {\n",
       "        text-align: right;\n",
       "    }\n",
       "</style>\n",
       "<table border=\"1\" class=\"dataframe\">\n",
       "  <thead>\n",
       "    <tr style=\"text-align: right;\">\n",
       "      <th></th>\n",
       "      <th>手機螢幕溫度(平均)</th>\n",
       "      <th>手機背蓋溫度(平均)</th>\n",
       "      <th>充電時間指標</th>\n",
       "      <th>手機電池電量</th>\n",
       "      <th>CPU跑分階級</th>\n",
       "      <th>上網頻率指標</th>\n",
       "      <th>通話頻率指標</th>\n",
       "      <th>內容容量比率</th>\n",
       "      <th>Underclocking</th>\n",
       "    </tr>\n",
       "  </thead>\n",
       "  <tbody>\n",
       "    <tr>\n",
       "      <th>count</th>\n",
       "      <td>3900.000000</td>\n",
       "      <td>3900.000000</td>\n",
       "      <td>3900.000000</td>\n",
       "      <td>3900.000000</td>\n",
       "      <td>3900.000000</td>\n",
       "      <td>3900.000000</td>\n",
       "      <td>3900.000000</td>\n",
       "      <td>3900.000000</td>\n",
       "      <td>3900.000000</td>\n",
       "    </tr>\n",
       "    <tr>\n",
       "      <th>mean</th>\n",
       "      <td>0.458852</td>\n",
       "      <td>0.426077</td>\n",
       "      <td>0.233558</td>\n",
       "      <td>0.523918</td>\n",
       "      <td>0.106667</td>\n",
       "      <td>0.303431</td>\n",
       "      <td>0.271586</td>\n",
       "      <td>0.859740</td>\n",
       "      <td>0.428462</td>\n",
       "    </tr>\n",
       "    <tr>\n",
       "      <th>std</th>\n",
       "      <td>0.214692</td>\n",
       "      <td>0.123465</td>\n",
       "      <td>0.240122</td>\n",
       "      <td>0.268776</td>\n",
       "      <td>0.228279</td>\n",
       "      <td>0.217593</td>\n",
       "      <td>0.222718</td>\n",
       "      <td>0.184776</td>\n",
       "      <td>0.494919</td>\n",
       "    </tr>\n",
       "    <tr>\n",
       "      <th>min</th>\n",
       "      <td>0.000000</td>\n",
       "      <td>0.000000</td>\n",
       "      <td>0.000000</td>\n",
       "      <td>0.000000</td>\n",
       "      <td>0.000000</td>\n",
       "      <td>0.000000</td>\n",
       "      <td>0.000000</td>\n",
       "      <td>0.000000</td>\n",
       "      <td>0.000000</td>\n",
       "    </tr>\n",
       "    <tr>\n",
       "      <th>25%</th>\n",
       "      <td>0.306283</td>\n",
       "      <td>0.354500</td>\n",
       "      <td>0.031231</td>\n",
       "      <td>0.285479</td>\n",
       "      <td>0.000000</td>\n",
       "      <td>0.112586</td>\n",
       "      <td>0.071325</td>\n",
       "      <td>0.802988</td>\n",
       "      <td>0.000000</td>\n",
       "    </tr>\n",
       "    <tr>\n",
       "      <th>50%</th>\n",
       "      <td>0.456996</td>\n",
       "      <td>0.437134</td>\n",
       "      <td>0.148494</td>\n",
       "      <td>0.552613</td>\n",
       "      <td>0.000000</td>\n",
       "      <td>0.270453</td>\n",
       "      <td>0.233485</td>\n",
       "      <td>0.937162</td>\n",
       "      <td>0.000000</td>\n",
       "    </tr>\n",
       "    <tr>\n",
       "      <th>75%</th>\n",
       "      <td>0.623431</td>\n",
       "      <td>0.502773</td>\n",
       "      <td>0.384236</td>\n",
       "      <td>0.747035</td>\n",
       "      <td>0.000000</td>\n",
       "      <td>0.456275</td>\n",
       "      <td>0.424932</td>\n",
       "      <td>0.987234</td>\n",
       "      <td>1.000000</td>\n",
       "    </tr>\n",
       "    <tr>\n",
       "      <th>max</th>\n",
       "      <td>1.000000</td>\n",
       "      <td>1.000000</td>\n",
       "      <td>1.000000</td>\n",
       "      <td>1.000000</td>\n",
       "      <td>1.000000</td>\n",
       "      <td>1.000000</td>\n",
       "      <td>1.000000</td>\n",
       "      <td>1.000000</td>\n",
       "      <td>1.000000</td>\n",
       "    </tr>\n",
       "  </tbody>\n",
       "</table>\n",
       "</div>"
      ],
      "text/plain": [
       "        手機螢幕溫度(平均)   手機背蓋溫度(平均)       充電時間指標       手機電池電量      CPU跑分階級  \\\n",
       "count  3900.000000  3900.000000  3900.000000  3900.000000  3900.000000   \n",
       "mean      0.458852     0.426077     0.233558     0.523918     0.106667   \n",
       "std       0.214692     0.123465     0.240122     0.268776     0.228279   \n",
       "min       0.000000     0.000000     0.000000     0.000000     0.000000   \n",
       "25%       0.306283     0.354500     0.031231     0.285479     0.000000   \n",
       "50%       0.456996     0.437134     0.148494     0.552613     0.000000   \n",
       "75%       0.623431     0.502773     0.384236     0.747035     0.000000   \n",
       "max       1.000000     1.000000     1.000000     1.000000     1.000000   \n",
       "\n",
       "            上網頻率指標       通話頻率指標       內容容量比率  Underclocking  \n",
       "count  3900.000000  3900.000000  3900.000000    3900.000000  \n",
       "mean      0.303431     0.271586     0.859740       0.428462  \n",
       "std       0.217593     0.222718     0.184776       0.494919  \n",
       "min       0.000000     0.000000     0.000000       0.000000  \n",
       "25%       0.112586     0.071325     0.802988       0.000000  \n",
       "50%       0.270453     0.233485     0.937162       0.000000  \n",
       "75%       0.456275     0.424932     0.987234       1.000000  \n",
       "max       1.000000     1.000000     1.000000       1.000000  "
      ]
     },
     "execution_count": 326,
     "metadata": {},
     "output_type": "execute_result"
    }
   ],
   "source": [
    "data_train.describe()"
   ]
  },
  {
   "cell_type": "code",
   "execution_count": 327,
   "metadata": {},
   "outputs": [
    {
     "data": {
      "text/plain": [
       "'\\nimport pandas as pd\\nimport numpy as np\\n\\n# 假設 data 是包含你的數據的 DataFrame\\n# 這裡假設 data 中包含你想要計算變異係數的特徵列\\n\\n# 使用 describe 方法獲取特徵的統計摘要\\ndata_train = data_train.describe()\\n\\n# 從統計摘要中獲取你想要計算變異係數的特徵列，假設特徵名稱為 \\'手機螢幕溫度(平均)\\' 等等\\nfeature_names = [\\'手機螢幕溫度(平均)\\', \\'手機背蓋溫度(平均)\\', \\'充電時間指標\\', \\'手機電池電量\\', \\'CPU跑分階級\\', \\'通話頻率指標\\', \\'內容容量比率\\', \\'上網頻率指標\\']\\n\\n# 計算每個特徵的變異係數\\nvariance_coefficients = {}\\nfor feature_name in feature_names:\\n    std = data_train.loc[\\'std\\', feature_name]\\n    mean = data_train.loc[\\'mean\\', feature_name]\\n    variance_coefficients[feature_name] = std / mean\\n\\n# 打印計算結果\\nfor feature_name, coefficient in variance_coefficients.items():\\n    print(f\"特徵 \\'{feature_name}\\' 的變異係數為: {coefficient}\")\\n'"
      ]
     },
     "execution_count": 327,
     "metadata": {},
     "output_type": "execute_result"
    }
   ],
   "source": [
    "\n",
    "'''\n",
    "import pandas as pd\n",
    "import numpy as np\n",
    "\n",
    "# 假設 data 是包含你的數據的 DataFrame\n",
    "# 這裡假設 data 中包含你想要計算變異係數的特徵列\n",
    "\n",
    "# 使用 describe 方法獲取特徵的統計摘要\n",
    "data_train = data_train.describe()\n",
    "\n",
    "# 從統計摘要中獲取你想要計算變異係數的特徵列，假設特徵名稱為 '手機螢幕溫度(平均)' 等等\n",
    "feature_names = ['手機螢幕溫度(平均)', '手機背蓋溫度(平均)', '充電時間指標', '手機電池電量', 'CPU跑分階級', '通話頻率指標', '內容容量比率', '上網頻率指標']\n",
    "\n",
    "# 計算每個特徵的變異係數\n",
    "variance_coefficients = {}\n",
    "for feature_name in feature_names:\n",
    "    std = data_train.loc['std', feature_name]\n",
    "    mean = data_train.loc['mean', feature_name]\n",
    "    variance_coefficients[feature_name] = std / mean\n",
    "\n",
    "# 打印計算結果\n",
    "for feature_name, coefficient in variance_coefficients.items():\n",
    "    print(f\"特徵 '{feature_name}' 的變異係數為: {coefficient}\")\n",
    "'''"
   ]
  },
  {
   "cell_type": "code",
   "execution_count": 328,
   "metadata": {},
   "outputs": [],
   "source": [
    "from sklearn.preprocessing import MinMaxScaler\n",
    "\n",
    "\n",
    "columns_to_normalize = [ '手機螢幕溫度(平均)', '手機背蓋溫度(平均)','手機電池電量', 'CPU跑分階級','內容容量比率','充電時間指標', '通話頻率指標', '上網頻率指標']\n",
    "\n",
    "# 初始化標準化物件\n",
    "min_max_scaler = MinMaxScaler()\n",
    "\n",
    "# 將資料標準化\n",
    "data_test[columns_to_normalize] = min_max_scaler.fit_transform(data_test[columns_to_normalize])"
   ]
  },
  {
   "cell_type": "code",
   "execution_count": 329,
   "metadata": {},
   "outputs": [],
   "source": [
    "from sklearn import preprocessing\n",
    "from sklearn.preprocessing import MinMaxScaler, StandardScaler  #建構standardization的物件\n",
    "\n",
    "#name_list_outlier = ['手機螢幕溫度(平均)','手機螢幕溫度(最大)','手機背蓋溫度(平均)','平均APP運作指標/小時','充電時間指標',\n",
    "                #'手機電池電量','手機外殼/包膜指標','外型平均曲率','上網頻率指標',\n",
    "                #'通話頻率指標','新機/二手/老舊','內容容量比率','CPU效能等級','CPU跑分階級']\n",
    "\n",
    "#name_list_outlier = ['手機螢幕溫度(最大)' ,'手機背蓋溫度(平均)','充電時間指標','手機電池電量','通話頻率指標',\n",
    "                        #'新機/二手/老舊','內容容量比率','CPU效能等級','CPU跑分階級']\n",
    "\n",
    "name_list_outlier =[ '手機背蓋溫度(平均)',  '內容容量比率']\n",
    "name_pre_outlier = ['Mobile Screen Temperature (Max)','Mobile Phone Back Cover Temperature (Average)','Average APP Operation Index/Hour','Mobile Phone Battery Level','Content Capacity Ratio']\n",
    "\n",
    "\n",
    "#離群值處理\n",
    "def  outlier_del(data_frame,name_list_outlier,n1=5,n2=5):\n",
    "    for i, name in enumerate(name_list_outlier):\n",
    "        print(name)\n",
    "        print(\"Shape Of The Before Ouliers: \", data_frame[name].shape)\n",
    "    \n",
    "        # 计算IQR\n",
    "        Q1 = np.percentile(data_frame[name], 25)\n",
    "        Q3 = np.percentile(data_frame[name], 75)\n",
    "        IQR = Q3 - Q1\n",
    "\n",
    "        # 定义离群值范围\n",
    "        lower_bound = Q1 - n1 * IQR\n",
    "        upper_bound = Q3 + n2 * IQR\n",
    "\n",
    "        # 过滤离群值\n",
    "        filtered_entries = ((data_frame[name] >= lower_bound) & (data_frame[name] <= upper_bound))\n",
    "        data_frame = data_frame[filtered_entries]\n",
    "    \n",
    "        print(\"Shape Of The After Ouliers: \",data_frame[name].shape)\n",
    "        print('===================================================================================================================')\n",
    "    return data_frame"
   ]
  },
  {
   "cell_type": "code",
   "execution_count": 330,
   "metadata": {},
   "outputs": [
    {
     "name": "stdout",
     "output_type": "stream",
     "text": [
      "手機螢幕溫度(平均)\n",
      "Shape Of The Before Ouliers:  (3900,)\n",
      "Shape Of The After Ouliers:  (3900,)\n",
      "===================================================================================================================\n",
      "手機背蓋溫度(平均)\n",
      "Shape Of The Before Ouliers:  (3900,)\n",
      "Shape Of The After Ouliers:  (3900,)\n",
      "===================================================================================================================\n",
      "充電時間指標\n",
      "Shape Of The Before Ouliers:  (3900,)\n",
      "Shape Of The After Ouliers:  (3900,)\n",
      "===================================================================================================================\n",
      "上網頻率指標\n",
      "Shape Of The Before Ouliers:  (3900,)\n",
      "Shape Of The After Ouliers:  (3212,)\n",
      "===================================================================================================================\n",
      "通話頻率指標\n",
      "Shape Of The Before Ouliers:  (3212,)\n",
      "Shape Of The After Ouliers:  (2611,)\n",
      "===================================================================================================================\n"
     ]
    }
   ],
   "source": [
    "data_train=outlier_del(data_train,['手機螢幕溫度(平均)'],n1=1,n2=5)#或許不重要\n",
    "data_train=outlier_del(data_train,['手機背蓋溫度(平均)'],n1=5,n2=5)#很重要overfit\n",
    "data_train=outlier_del(data_train,['充電時間指標'],n1=0.1,n2=5)#或許不重要\n",
    "data_train=outlier_del(data_train,['上網頻率指標'],n1=0.1,n2=6)#很重要overfit\n",
    "data_train=outlier_del(data_train,['通話頻率指標'],n1=0.1,n2=5)#分數都下降"
   ]
  },
  {
   "cell_type": "code",
   "execution_count": 331,
   "metadata": {},
   "outputs": [
    {
     "name": "stdout",
     "output_type": "stream",
     "text": [
      "Class Distribution:\n",
      "Underclocking\n",
      "0    1505\n",
      "1    1106\n",
      "Name: count, dtype: int64\n"
     ]
    }
   ],
   "source": [
    "class_distribution = data_train['Underclocking'].value_counts() #指定data中的label欄位，進行各類別數量的統計\n",
    "print(\"Class Distribution:\")\n",
    "print(class_distribution)"
   ]
  },
  {
   "cell_type": "code",
   "execution_count": 332,
   "metadata": {},
   "outputs": [
    {
     "data": {
      "text/plain": [
       "\"\\nfrom imblearn.over_sampling import SMOTE\\n\\n# 特徵和標籤分離\\nX = data_train.drop('Underclocking', axis=1)\\ny = data_train['Underclocking']\\n\\n# 使用 SMOTE 生成合成樣本\\nsmote = SMOTE(random_state=42)\\nX_resampled, y_resampled = smote.fit_resample(X, y)\\n\\n# 合併合成樣本後的數據\\ndata_train_balanced = pd.concat([pd.DataFrame(X_resampled, columns=X.columns), pd.Series(y_resampled, name='Underclocking')], axis=1)\\n\\n# 檢查新的類別分佈\\nprint(data_train_balanced['Underclocking'].value_counts())\\n\""
      ]
     },
     "execution_count": 332,
     "metadata": {},
     "output_type": "execute_result"
    }
   ],
   "source": [
    "'''\n",
    "from imblearn.over_sampling import SMOTE\n",
    "\n",
    "# 特徵和標籤分離\n",
    "X = data_train.drop('Underclocking', axis=1)\n",
    "y = data_train['Underclocking']\n",
    "\n",
    "# 使用 SMOTE 生成合成樣本\n",
    "smote = SMOTE(random_state=42)\n",
    "X_resampled, y_resampled = smote.fit_resample(X, y)\n",
    "\n",
    "# 合併合成樣本後的數據\n",
    "data_train_balanced = pd.concat([pd.DataFrame(X_resampled, columns=X.columns), pd.Series(y_resampled, name='Underclocking')], axis=1)\n",
    "\n",
    "# 檢查新的類別分佈\n",
    "print(data_train_balanced['Underclocking'].value_counts())\n",
    "'''\n"
   ]
  },
  {
   "cell_type": "code",
   "execution_count": 333,
   "metadata": {},
   "outputs": [
    {
     "data": {
      "text/plain": [
       "\"\\nfrom sklearn.utils import resample\\n\\n# 分離多數類別和少數類別\\nmajority_class = data_train[data_train['Underclocking'] == 0]\\nminority_class = data_train[data_train['Underclocking'] == 1]\\n\\n# 上採樣少數類別\\nminority_class_upsampled = resample(minority_class,\\n                                    replace=True,  # 以放回的方式抽樣\\n                                    n_samples=len(majority_class),  # 使少數類別樣本數達到多數類別的數量\\n                                    random_state=42)  # 設定隨機種子以保證結果可重現\\n\\n# 合併上採樣後的數據\\ndata_train_balanced = pd.concat([majority_class, minority_class_upsampled])\\n\\n# 檢查新的類別分佈\\nprint(data_train_balanced['Underclocking'].value_counts())\\n\""
      ]
     },
     "execution_count": 333,
     "metadata": {},
     "output_type": "execute_result"
    }
   ],
   "source": [
    "'''\n",
    "from sklearn.utils import resample\n",
    "\n",
    "# 分離多數類別和少數類別\n",
    "majority_class = data_train[data_train['Underclocking'] == 0]\n",
    "minority_class = data_train[data_train['Underclocking'] == 1]\n",
    "\n",
    "# 上採樣少數類別\n",
    "minority_class_upsampled = resample(minority_class,\n",
    "                                    replace=True,  # 以放回的方式抽樣\n",
    "                                    n_samples=len(majority_class),  # 使少數類別樣本數達到多數類別的數量\n",
    "                                    random_state=42)  # 設定隨機種子以保證結果可重現\n",
    "\n",
    "# 合併上採樣後的數據\n",
    "data_train_balanced = pd.concat([majority_class, minority_class_upsampled])\n",
    "\n",
    "# 檢查新的類別分佈\n",
    "print(data_train_balanced['Underclocking'].value_counts())\n",
    "'''\n"
   ]
  },
  {
   "cell_type": "code",
   "execution_count": 334,
   "metadata": {},
   "outputs": [],
   "source": [
    "data_train=data_train_balanced"
   ]
  },
  {
   "cell_type": "code",
   "execution_count": 335,
   "metadata": {},
   "outputs": [
    {
     "name": "stdout",
     "output_type": "stream",
     "text": [
      "Class Distribution:\n",
      "Underclocking\n",
      "0    1505\n",
      "1    1505\n",
      "Name: count, dtype: int64\n"
     ]
    }
   ],
   "source": [
    "class_distribution = data_train['Underclocking'].value_counts() #指定data中的label欄位，進行各類別數量的統計\n",
    "print(\"Class Distribution:\")\n",
    "print(class_distribution)"
   ]
  },
  {
   "cell_type": "code",
   "execution_count": 336,
   "metadata": {},
   "outputs": [],
   "source": [
    "#Step (3): 用X儲存features, Y為labels(Underclocking)\n",
    "y_data = data_train['Underclocking'].to_numpy()\n",
    "feature_ex =['手機螢幕溫度(平均)', '手機背蓋溫度(平均)', '充電時間指標', '手機電池電量', 'CPU跑分階級', '通話頻率指標', '內容容量比率', '上網頻率指標']\n",
    "x_data = data_train[feature_ex].to_numpy()"
   ]
  },
  {
   "cell_type": "code",
   "execution_count": 337,
   "metadata": {},
   "outputs": [],
   "source": [
    "#Step (4): 把dataset分成訓練跟驗證\n",
    "from sklearn.model_selection import train_test_split\n",
    "#test_size=0.3 為比例-> training:test=7:3\n",
    "trainX, testX, trainY, testY = train_test_split(x_data, y_data, test_size=0.2, random_state=42)"
   ]
  },
  {
   "cell_type": "code",
   "execution_count": 338,
   "metadata": {},
   "outputs": [
    {
     "name": "stdout",
     "output_type": "stream",
     "text": [
      "Training Accuracy: 0.7533222591362126\n",
      "Validation Accuracy: 0.717607973421927\n",
      "Classification Report:\n",
      "               precision    recall  f1-score   support\n",
      "\n",
      "           0       0.74      0.69      0.72       310\n",
      "           1       0.70      0.74      0.72       292\n",
      "\n",
      "    accuracy                           0.72       602\n",
      "   macro avg       0.72      0.72      0.72       602\n",
      "weighted avg       0.72      0.72      0.72       602\n",
      "\n",
      "Confusion Matrix:\n",
      " [[215  95]\n",
      " [ 75 217]]\n"
     ]
    }
   ],
   "source": [
    "from sklearn.ensemble import RandomForestClassifier\n",
    "from sklearn.metrics import accuracy_score, classification_report, confusion_matrix\n",
    "\n",
    "\n",
    "rf_model = RandomForestClassifier(n_estimators=6000, criterion='gini',max_depth=5,random_state=42,n_jobs=-1)\n",
    "\n",
    "# 使用模型对训练集进行训练\n",
    "rf_model.fit(trainX, trainY)\n",
    "\n",
    "# 获取训练集和验证集的预测结果\n",
    "Y_train_pred = rf_model.predict(trainX)\n",
    "Y_test_pred = rf_model.predict(testX)\n",
    "\n",
    "# 计算训练集和验证集的准确率\n",
    "train_accuracy = accuracy_score(trainY, Y_train_pred)\n",
    "test_accuracy = accuracy_score(testY, Y_test_pred)\n",
    "print(\"Training Accuracy:\", train_accuracy)\n",
    "print(\"Validation Accuracy:\", test_accuracy)\n",
    "\n",
    "# 打印分类报告和混淆矩阵\n",
    "print(\"Classification Report:\\n\", classification_report(testY, Y_test_pred))\n",
    "print(\"Confusion Matrix:\\n\", confusion_matrix(testY, Y_test_pred))"
   ]
  },
  {
   "cell_type": "code",
   "execution_count": 339,
   "metadata": {},
   "outputs": [
    {
     "name": "stderr",
     "output_type": "stream",
     "text": [
      "c:\\Users\\user\\Desktop\\testing\\mkenv\\Lib\\site-packages\\sklearn\\base.py:486: UserWarning: X has feature names, but RandomForestClassifier was fitted without feature names\n",
      "  warnings.warn(\n"
     ]
    }
   ],
   "source": [
    "predicted_ans = rf_model.predict(data_test)\n",
    "my_submission = pd.DataFrame({'id': data_out.id, 'Underclocking': predicted_ans})\n",
    "my_submission.to_csv('submission.csv', index=False)\n"
   ]
  },
  {
   "cell_type": "code",
   "execution_count": 340,
   "metadata": {},
   "outputs": [
    {
     "data": {
      "text/plain": [
       "'\\n#驗證模型與最佳化\\n#GridSearchCV\\nfrom sklearn.model_selection import GridSearchCV\\n\\nrf_model = RandomForestClassifier(random_state=42)\\n\\n\\n# 设置参数网格\\nparam_grid = {\\n    \\'n_estimators\\':  np.arange(10, 7000, 10),\\n    \\'max_depth\\': np.arange(2, 7, 1),\\n        \\n    }\\n\\n    # 创建 GridSearchCV 对象\\ngrid_search = GridSearchCV(estimator=rf_model, param_grid=param_grid, cv=5,\\n                               scoring=\\'accuracy\\', verbose=3, n_jobs=-1)\\n\\n    # 运行网格搜索\\ngrid_search.fit(trainX, trainY)\\n\\n    # 打印最佳参数和最佳模型的得分\\nprint(\"Best parameters:\", grid_search.best_params_)\\nprint(\"Best cross-validation score: {:.2f}\".format(grid_search.best_score_))\\n\\n\\n#grid_search_result = xgboost_model_tuning(trainX, trainY)\\n'"
      ]
     },
     "execution_count": 340,
     "metadata": {},
     "output_type": "execute_result"
    }
   ],
   "source": [
    "'''\n",
    "#驗證模型與最佳化\n",
    "#GridSearchCV\n",
    "from sklearn.model_selection import GridSearchCV\n",
    "\n",
    "rf_model = RandomForestClassifier(random_state=42)\n",
    "\n",
    "\n",
    "# 设置参数网格\n",
    "param_grid = {\n",
    "    'n_estimators':  np.arange(10, 7000, 10),\n",
    "    'max_depth': np.arange(2, 7, 1),\n",
    "        \n",
    "    }\n",
    "\n",
    "    # 创建 GridSearchCV 对象\n",
    "grid_search = GridSearchCV(estimator=rf_model, param_grid=param_grid, cv=5,\n",
    "                               scoring='accuracy', verbose=3, n_jobs=-1)\n",
    "\n",
    "    # 运行网格搜索\n",
    "grid_search.fit(trainX, trainY)\n",
    "\n",
    "    # 打印最佳参数和最佳模型的得分\n",
    "print(\"Best parameters:\", grid_search.best_params_)\n",
    "print(\"Best cross-validation score: {:.2f}\".format(grid_search.best_score_))\n",
    "\n",
    "\n",
    "#grid_search_result = xgboost_model_tuning(trainX, trainY)\n",
    "'''"
   ]
  }
 ],
 "metadata": {
  "kernelspec": {
   "display_name": "mkenv",
   "language": "python",
   "name": "python3"
  },
  "language_info": {
   "codemirror_mode": {
    "name": "ipython",
    "version": 3
   },
   "file_extension": ".py",
   "mimetype": "text/x-python",
   "name": "python",
   "nbconvert_exporter": "python",
   "pygments_lexer": "ipython3",
   "version": "3.12.2"
  }
 },
 "nbformat": 4,
 "nbformat_minor": 2
}
