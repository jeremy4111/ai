{
 "cells": [
  {
   "cell_type": "code",
   "execution_count": null,
   "metadata": {},
   "outputs": [],
   "source": [
    "#Step (1): Read Data\n",
    "import pandas as pd #Read data\n",
    "import numpy as np  #Array\n",
    "\n",
    "# Read in dataset (encoding = 'Big5'可顯示出繁體中文)\n",
    "data_train = pd.read_excel(\"01train_fix.xlsx\")\n",
    "data_test = pd.read_excel(\"01test.xlsx\")\n",
    "data_out = pd.read_excel(\"01test.xlsx\")\n",
    "data_train.head() # Show data (看看是否讀取成功)"
   ]
  },
  {
   "cell_type": "code",
   "execution_count": null,
   "metadata": {},
   "outputs": [],
   "source": [
    "#drop 上網試試看,心肌、平均app不drop\n",
    "columns_to_drop = ['外型平均曲率', '手機外殼/包膜指標', '手機螢幕溫度(最大)', 'CPU效能等級', '平均APP運作指標/小時', '新機/二手/老舊']\n",
    "data_train.drop(columns=columns_to_drop, axis=1, inplace=True)\n",
    "data_test.drop(['id'] + columns_to_drop, axis=1, inplace=True)"
   ]
  },
  {
   "cell_type": "code",
   "execution_count": null,
   "metadata": {},
   "outputs": [],
   "source": [
    "from sklearn.preprocessing import MinMaxScaler\n",
    "\n",
    "\n",
    "columns_to_normalize = [ '手機螢幕溫度(平均)', '手機背蓋溫度(平均)','手機電池電量', 'CPU跑分階級','內容容量比率','充電時間指標', '通話頻率指標', '上網頻率指標']\n",
    "\n",
    "# 初始化標準化物件\n",
    "min_max_scaler = MinMaxScaler()\n",
    "\n",
    "# 將資料標準化\n",
    "data_train[columns_to_normalize] = min_max_scaler.fit_transform(data_train[columns_to_normalize])\n",
    "data_test[columns_to_normalize] = min_max_scaler.transform(data_test[columns_to_normalize])\n",
    "\n",
    "# 顯示標準化後的資料\n",
    "print(data_train.head())"
   ]
  },
  {
   "cell_type": "code",
   "execution_count": null,
   "metadata": {},
   "outputs": [],
   "source": [
    "data_train.describe()"
   ]
  },
  {
   "cell_type": "code",
   "execution_count": null,
   "metadata": {},
   "outputs": [],
   "source": [
    "data_test.describe()"
   ]
  },
  {
   "cell_type": "code",
   "execution_count": null,
   "metadata": {},
   "outputs": [],
   "source": [
    "from sklearn import preprocessing\n",
    "from sklearn.preprocessing import MinMaxScaler, StandardScaler  #建構standardization的物件\n",
    "\n",
    "#name_list_outlier = ['手機螢幕溫度(平均)','手機螢幕溫度(最大)','手機背蓋溫度(平均)','平均APP運作指標/小時','充電時間指標',\n",
    "                #'手機電池電量','手機外殼/包膜指標','外型平均曲率','上網頻率指標',\n",
    "                #'通話頻率指標','新機/二手/老舊','內容容量比率','CPU效能等級','CPU跑分階級']\n",
    "\n",
    "#name_list_outlier = ['手機螢幕溫度(最大)' ,'手機背蓋溫度(平均)','充電時間指標','手機電池電量','通話頻率指標',\n",
    "                        #'新機/二手/老舊','內容容量比率','CPU效能等級','CPU跑分階級']\n",
    "\n",
    "name_list_outlier =[ '手機背蓋溫度(平均)',  '內容容量比率']\n",
    "name_pre_outlier = ['Mobile Screen Temperature (Max)','Mobile Phone Back Cover Temperature (Average)','Average APP Operation Index/Hour','Mobile Phone Battery Level','Content Capacity Ratio']\n",
    "\n",
    "\n",
    "#離群值處理\n",
    "def  outlier_del(data_frame,name_list_outlier,n1=5,n2=5):\n",
    "    for i, name in enumerate(name_list_outlier):\n",
    "        print(name)\n",
    "        print(\"Shape Of The Before Ouliers: \", data_frame[name].shape)\n",
    "    \n",
    "        # 计算IQR\n",
    "        Q1 = np.percentile(data_frame[name], 25)\n",
    "        Q3 = np.percentile(data_frame[name], 75)\n",
    "        IQR = Q3 - Q1\n",
    "\n",
    "        # 定义离群值范围\n",
    "        lower_bound = Q1 - n1 * IQR\n",
    "        upper_bound = Q3 + n2 * IQR\n",
    "\n",
    "        # 过滤离群值\n",
    "        filtered_entries = ((data_frame[name] >= lower_bound) & (data_frame[name] <= upper_bound))\n",
    "        data_frame = data_frame[filtered_entries]\n",
    "    \n",
    "        print(\"Shape Of The After Ouliers: \",data_frame[name].shape)\n",
    "        print('===================================================================================================================')\n",
    "    return data_frame"
   ]
  },
  {
   "cell_type": "code",
   "execution_count": null,
   "metadata": {},
   "outputs": [],
   "source": [
    "class_distribution = data_train['Underclocking'].value_counts() #指定data中的label欄位，進行各類別數量的統計\n",
    "print(\"Class Distribution:\")\n",
    "print(class_distribution)"
   ]
  },
  {
   "cell_type": "code",
   "execution_count": null,
   "metadata": {},
   "outputs": [],
   "source": [
    "feature_ex =['手機螢幕溫度(平均)', '手機背蓋溫度(平均)', '充電時間指標', '手機電池電量', 'CPU跑分階級', '通話頻率指標', '內容容量比率', '上網頻率指標']\n",
    "x_data = data_train[feature_ex]\n",
    "y_data = data_train['Underclocking']"
   ]
  },
  {
   "cell_type": "code",
   "execution_count": null,
   "metadata": {},
   "outputs": [],
   "source": [
    "from sklearn.model_selection import cross_validate, KFold\n",
    "from sklearn.ensemble import RandomForestClassifier\n",
    "rf_model = RandomForestClassifier(n_estimators=300, criterion='gini',max_depth=6,random_state=42,n_jobs=-1)\n",
    "\n",
    "# 定义 KFold 交叉验证对象\n",
    "kfold = KFold(n_splits=5, shuffle=True, random_state=42)\n",
    "\n",
    "# 使用 cross_validate 进行交叉验证\n",
    "cv_results = cross_validate(rf_model, x_data, y_data, cv=kfold, scoring='accuracy', return_train_score=True)\n",
    "\n",
    "# 输出每个 fold 的训练得分和验证得分\n",
    "for i in range(5):\n",
    "    train_score = cv_results['train_score'][i]\n",
    "    test_score = cv_results['test_score'][i]\n",
    "    print(f\"Fold {i+1} - Training Score: {train_score}, Validation Score: {test_score}\")\n",
    "\n",
    "# 输出平均训练得分和平均验证得分\n",
    "mean_train_score = np.mean(cv_results['train_score'])\n",
    "mean_test_score = np.mean(cv_results['test_score'])\n",
    "print(f\"\\nMean Training Score: {mean_train_score}\")\n",
    "print(f\"Mean Validation Score: {mean_test_score}\")"
   ]
  },
  {
   "cell_type": "code",
   "execution_count": null,
   "metadata": {},
   "outputs": [],
   "source": [
    "#Step (4): 把dataset分成訓練跟驗證\n",
    "from sklearn.model_selection import train_test_split\n",
    "#test_size=0.3 為比例-> training:test=7:3\n",
    "trainX, testX, trainY, testY = train_test_split(x_data, y_data, test_size=0.2, random_state=42)"
   ]
  },
  {
   "cell_type": "code",
   "execution_count": null,
   "metadata": {},
   "outputs": [],
   "source": [
    "from sklearn.ensemble import RandomForestClassifier\n",
    "from sklearn.metrics import accuracy_score, classification_report, confusion_matrix\n",
    "\n",
    "\n",
    "rf_model = RandomForestClassifier(n_estimators=300, criterion='gini',max_depth=6,random_state=42,n_jobs=-1)\n",
    "\n",
    "# 使用模型对训练集进行训练\n",
    "rf_model.fit(trainX, trainY)\n",
    "\n",
    "# 获取训练集和验证集的预测结果\n",
    "Y_train_pred = rf_model.predict(trainX)\n",
    "Y_test_pred = rf_model.predict(testX)\n",
    "\n",
    "# 计算训练集和验证集的准确率\n",
    "train_accuracy = accuracy_score(trainY, Y_train_pred)\n",
    "test_accuracy = accuracy_score(testY, Y_test_pred)\n",
    "print(\"Training Accuracy:\", train_accuracy)\n",
    "print(\"Validation Accuracy:\", test_accuracy)\n",
    "\n",
    "# 打印分类报告和混淆矩阵\n",
    "print(\"Classification Report:\\n\", classification_report(testY, Y_test_pred))\n",
    "print(\"Confusion Matrix:\\n\", confusion_matrix(testY, Y_test_pred))"
   ]
  },
  {
   "cell_type": "code",
   "execution_count": null,
   "metadata": {},
   "outputs": [],
   "source": [
    "predicted_ans = rf_model.predict(data_test[feature_ex])\n",
    "my_submission = pd.DataFrame({'id': data_out.id, 'Underclocking': predicted_ans})\n",
    "my_submission.to_csv('submission.csv', index=False)\n"
   ]
  }
 ],
 "metadata": {
  "kernelspec": {
   "display_name": "mkenv",
   "language": "python",
   "name": "python3"
  },
  "language_info": {
   "codemirror_mode": {
    "name": "ipython",
    "version": 3
   },
   "file_extension": ".py",
   "mimetype": "text/x-python",
   "name": "python",
   "nbconvert_exporter": "python",
   "pygments_lexer": "ipython3",
   "version": "3.12.2"
  }
 },
 "nbformat": 4,
 "nbformat_minor": 2
}
